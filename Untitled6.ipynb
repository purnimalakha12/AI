{
 "cells": [
  {
   "cell_type": "code",
   "execution_count": 35,
   "id": "fd2f2e6c-fcb5-48bc-bfe6-6da0744ee18b",
   "metadata": {},
   "outputs": [],
   "source": [
    "import numpy as np"
   ]
  },
  {
   "cell_type": "code",
   "execution_count": 37,
   "id": "94d67ad9-a575-47e3-a9c1-e21efb72836d",
   "metadata": {},
   "outputs": [],
   "source": [
    "# Parameters\n",
    "population_size = 20\n",
    "num_generations = 100\n",
    "crossover_rate = 0.8\n",
    "mutation_rate = 0.01\n",
    "integer_bits = 4\n",
    "fraction_bits = 6\n",
    "total_bits = 1 + integer_bits + fraction_bits  "
   ]
  },
  {
   "cell_type": "code",
   "execution_count": 39,
   "id": "de4c75d4-b05a-4b21-82af-5b80248f026b",
   "metadata": {},
   "outputs": [],
   "source": [
    "# Function for fitness\n",
    "def fitness(individual):\n",
    "    x = decode(individual)\n",
    "    return abs(9 * x**2 - 4)"
   ]
  },
  {
   "cell_type": "code",
   "execution_count": 41,
   "id": "fa511d6d-926d-47f7-9b84-ef2d04f4330e",
   "metadata": {},
   "outputs": [],
   "source": [
    "# Decode a binary string to a float\n",
    "def decode(individual):\n",
    "    sign_bit = individual[0]\n",
    "    integer_part = int(\"\".join(map(str, individual[1:1 + integer_bits])), 2)\n",
    "    fractional_part = int(\"\".join(map(str, individual[1 + integer_bits:])), 2) / (2 ** fraction_bits)\n",
    "    value = integer_part + fractional_part\n",
    "    if sign_bit == 1:\n",
    "        value = -value\n",
    "    return value"
   ]
  },
  {
   "cell_type": "code",
   "execution_count": 43,
   "id": "31f20be3-81ee-407b-b366-ee44abb4a103",
   "metadata": {},
   "outputs": [],
   "source": [
    "# Initialize population\n",
    "def initialize_population(size):\n",
    "    return np.random.randint(0, 2, (size, total_bits))"
   ]
  },
  {
   "cell_type": "code",
   "execution_count": 45,
   "id": "6f10c377-dc4c-4473-bd7b-00a52c3a37d9",
   "metadata": {},
   "outputs": [],
   "source": [
    "# Selection: Tournament Selection\n",
    "def tournament_selection(pop, fitnesses, k=3):\n",
    "    selected = []\n",
    "    for _ in range(len(pop)):\n",
    "        participants = np.random.choice(range(len(pop)), k)\n",
    "        selected.append(min(participants, key=lambda idx: fitnesses[idx]))\n",
    "    return pop[selected]"
   ]
  },
  {
   "cell_type": "code",
   "execution_count": 47,
   "id": "d6598a12-e322-4212-84f4-45b1cfedd47b",
   "metadata": {},
   "outputs": [],
   "source": [
    "# Crossover: Two-Point Crossover\n",
    "def crossover(parent1, parent2):\n",
    "    if np.random.rand() > crossover_rate:\n",
    "        return parent1.copy(), parent2.copy()\n",
    "    point1, point2 = sorted(np.random.choice(range(1, total_bits), 2, replace=False))\n",
    "    offspring1 = np.concatenate([parent1[:point1], parent2[point1:point2], parent1[point2:]])\n",
    "    offspring2 = np.concatenate([parent2[:point1], parent1[point1:point2], parent2[point2:]])\n",
    "    return offspring1, offspring2"
   ]
  },
  {
   "cell_type": "code",
   "execution_count": 49,
   "id": "4f9f21e6-4968-4777-b304-6bd406ec7e4d",
   "metadata": {},
   "outputs": [],
   "source": [
    "# Mutation: Bit Flip Mutation\n",
    "def mutate(individual):\n",
    "    for i in range(total_bits):\n",
    "        if np.random.rand() < mutation_rate:\n",
    "            individual[i] = 1 - individual[i]"
   ]
  },
  {
   "cell_type": "code",
   "execution_count": 51,
   "id": "bae3c05c-f526-4a6b-8161-58ddb357ad87",
   "metadata": {},
   "outputs": [],
   "source": [
    "# Main GA loop\n",
    "population = initialize_population(population_size)\n",
    "for generation in range(num_generations):\n",
    "    fitnesses = np.array([fitness(ind) for ind in population])\n",
    "    if min(fitnesses) < 1e-6:  # Solution found\n",
    "        break\n",
    "    population = tournament_selection(population, fitnesses)\n",
    "    next_population = []\n",
    "    for i in range(0, population_size, 2):\n",
    "        parent1, parent2 = population[i], population[i + 1]\n",
    "        offspring1, offspring2 = crossover(parent1, parent2)\n",
    "        mutate(offspring1)\n",
    "        mutate(offspring2)\n",
    "        next_population.extend([offspring1, offspring2])\n",
    "    population = np.array(next_population)\n"
   ]
  },
  {
   "cell_type": "code",
   "execution_count": 53,
   "id": "eec23ee9-2e39-4619-8846-10c353acbac9",
   "metadata": {},
   "outputs": [
    {
     "name": "stdout",
     "output_type": "stream",
     "text": [
      "Best solution: x = 0.6875, f(x) = 0.25390625\n"
     ]
    }
   ],
   "source": [
    "# Find the best solution\n",
    "best_individual = population[np.argmin([fitness(ind) for ind in population])]\n",
    "best_solution = decode(best_individual)\n",
    "\n",
    "print(f\"Best solution: x = {best_solution}, f(x) = {9*best_solution**2 - 4}\")"
   ]
  },
  {
   "cell_type": "code",
   "execution_count": null,
   "id": "7698e3ce-14f7-4234-bba2-69d985473639",
   "metadata": {},
   "outputs": [],
   "source": []
  }
 ],
 "metadata": {
  "kernelspec": {
   "display_name": "Python 3 (ipykernel)",
   "language": "python",
   "name": "python3"
  },
  "language_info": {
   "codemirror_mode": {
    "name": "ipython",
    "version": 3
   },
   "file_extension": ".py",
   "mimetype": "text/x-python",
   "name": "python",
   "nbconvert_exporter": "python",
   "pygments_lexer": "ipython3",
   "version": "3.12.4"
  }
 },
 "nbformat": 4,
 "nbformat_minor": 5
}
